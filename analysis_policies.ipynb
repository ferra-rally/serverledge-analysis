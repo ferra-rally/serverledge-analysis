{
 "cells": [
  {
   "cell_type": "code",
   "execution_count": 109,
   "metadata": {
    "collapsed": true,
    "pycharm": {
     "name": "#%%\n"
    }
   },
   "outputs": [],
   "source": [
    "import pandas as pd\n",
    "import matplotlib.pyplot as plt"
   ]
  },
  {
   "cell_type": "code",
   "execution_count": 110,
   "outputs": [],
   "source": [
    "name = \"test-policy6\"\n",
    "df_prob = pd.read_csv(f'data/{name}-prob.log')\n",
    "df_basic = pd.read_csv(f'data/{name}-basic.log')"
   ],
   "metadata": {
    "collapsed": false,
    "pycharm": {
     "name": "#%%\n"
    }
   }
  },
  {
   "cell_type": "code",
   "execution_count": 111,
   "outputs": [
    {
     "name": "stdout",
     "output_type": "stream",
     "text": [
      "(615, 17)\n",
      "(615, 17)\n"
     ]
    }
   ],
   "source": [
    "# Print the size of the df\n",
    "print(df_prob.shape)\n",
    "print(df_basic.shape)"
   ],
   "metadata": {
    "collapsed": false,
    "pycharm": {
     "name": "#%%\n"
    }
   }
  },
  {
   "cell_type": "code",
   "execution_count": 112,
   "outputs": [
    {
     "data": {
      "text/plain": "       timeStamp  elapsed           label  responseCode responseMessage  \\\n0  1674728383024     5687  HTTP Request 1           200              OK   \n1  1674728385735     5304  HTTP Request 1           200              OK   \n2  1674728388559     4459  HTTP Request 1           200              OK   \n3  1674728387921     5298  HTTP Request 1           200              OK   \n4  1674728392992     4330  HTTP Request 1           200              OK   \n\n         threadName dataType  success  failureMessage  bytes  sentBytes  \\\n0  ThreadGroup1 1-1     text     True             NaN    352        281   \n1  ThreadGroup1 1-3     text     True             NaN    359        281   \n2  ThreadGroup1 1-6     text     True             NaN    352        281   \n3  ThreadGroup1 1-5     text     True             NaN    351        281   \n4  ThreadGroup1 1-7     text     True             NaN    352        281   \n\n   grpThreads  allThreads                               URL  Latency  \\\n0           6           6  http://10.10.1.2:1323/invoke/fib     5683   \n1           5           5  http://10.10.1.2:1323/invoke/fib     5304   \n2           5           5  http://10.10.1.2:1323/invoke/fib     4459   \n3           4           4  http://10.10.1.2:1323/invoke/fib     5298   \n4           5           5  http://10.10.1.2:1323/invoke/fib     4330   \n\n   IdleTime  Connect  \n0         0       37  \n1         0        1  \n2         0        1  \n3         0        1  \n4         0        1  ",
      "text/html": "<div>\n<style scoped>\n    .dataframe tbody tr th:only-of-type {\n        vertical-align: middle;\n    }\n\n    .dataframe tbody tr th {\n        vertical-align: top;\n    }\n\n    .dataframe thead th {\n        text-align: right;\n    }\n</style>\n<table border=\"1\" class=\"dataframe\">\n  <thead>\n    <tr style=\"text-align: right;\">\n      <th></th>\n      <th>timeStamp</th>\n      <th>elapsed</th>\n      <th>label</th>\n      <th>responseCode</th>\n      <th>responseMessage</th>\n      <th>threadName</th>\n      <th>dataType</th>\n      <th>success</th>\n      <th>failureMessage</th>\n      <th>bytes</th>\n      <th>sentBytes</th>\n      <th>grpThreads</th>\n      <th>allThreads</th>\n      <th>URL</th>\n      <th>Latency</th>\n      <th>IdleTime</th>\n      <th>Connect</th>\n    </tr>\n  </thead>\n  <tbody>\n    <tr>\n      <th>0</th>\n      <td>1674728383024</td>\n      <td>5687</td>\n      <td>HTTP Request 1</td>\n      <td>200</td>\n      <td>OK</td>\n      <td>ThreadGroup1 1-1</td>\n      <td>text</td>\n      <td>True</td>\n      <td>NaN</td>\n      <td>352</td>\n      <td>281</td>\n      <td>6</td>\n      <td>6</td>\n      <td>http://10.10.1.2:1323/invoke/fib</td>\n      <td>5683</td>\n      <td>0</td>\n      <td>37</td>\n    </tr>\n    <tr>\n      <th>1</th>\n      <td>1674728385735</td>\n      <td>5304</td>\n      <td>HTTP Request 1</td>\n      <td>200</td>\n      <td>OK</td>\n      <td>ThreadGroup1 1-3</td>\n      <td>text</td>\n      <td>True</td>\n      <td>NaN</td>\n      <td>359</td>\n      <td>281</td>\n      <td>5</td>\n      <td>5</td>\n      <td>http://10.10.1.2:1323/invoke/fib</td>\n      <td>5304</td>\n      <td>0</td>\n      <td>1</td>\n    </tr>\n    <tr>\n      <th>2</th>\n      <td>1674728388559</td>\n      <td>4459</td>\n      <td>HTTP Request 1</td>\n      <td>200</td>\n      <td>OK</td>\n      <td>ThreadGroup1 1-6</td>\n      <td>text</td>\n      <td>True</td>\n      <td>NaN</td>\n      <td>352</td>\n      <td>281</td>\n      <td>5</td>\n      <td>5</td>\n      <td>http://10.10.1.2:1323/invoke/fib</td>\n      <td>4459</td>\n      <td>0</td>\n      <td>1</td>\n    </tr>\n    <tr>\n      <th>3</th>\n      <td>1674728387921</td>\n      <td>5298</td>\n      <td>HTTP Request 1</td>\n      <td>200</td>\n      <td>OK</td>\n      <td>ThreadGroup1 1-5</td>\n      <td>text</td>\n      <td>True</td>\n      <td>NaN</td>\n      <td>351</td>\n      <td>281</td>\n      <td>4</td>\n      <td>4</td>\n      <td>http://10.10.1.2:1323/invoke/fib</td>\n      <td>5298</td>\n      <td>0</td>\n      <td>1</td>\n    </tr>\n    <tr>\n      <th>4</th>\n      <td>1674728392992</td>\n      <td>4330</td>\n      <td>HTTP Request 1</td>\n      <td>200</td>\n      <td>OK</td>\n      <td>ThreadGroup1 1-7</td>\n      <td>text</td>\n      <td>True</td>\n      <td>NaN</td>\n      <td>352</td>\n      <td>281</td>\n      <td>5</td>\n      <td>5</td>\n      <td>http://10.10.1.2:1323/invoke/fib</td>\n      <td>4330</td>\n      <td>0</td>\n      <td>1</td>\n    </tr>\n  </tbody>\n</table>\n</div>"
     },
     "execution_count": 112,
     "metadata": {},
     "output_type": "execute_result"
    }
   ],
   "source": [
    "df_prob.head()"
   ],
   "metadata": {
    "collapsed": false,
    "pycharm": {
     "name": "#%%\n"
    }
   }
  },
  {
   "cell_type": "code",
   "execution_count": 113,
   "outputs": [],
   "source": [
    "# Filter df based on response code\n",
    "success_prob = df_prob[df_prob['responseCode'] == 200]\n",
    "success_basic = df_basic[df_basic['responseCode'] == 200]\n",
    "\n",
    "failure_prob = df_prob[df_prob['responseCode'] != 200]\n",
    "failure_basic = df_basic[df_basic['responseCode'] != 200]"
   ],
   "metadata": {
    "collapsed": false,
    "pycharm": {
     "name": "#%%\n"
    }
   }
  },
  {
   "cell_type": "code",
   "execution_count": 114,
   "outputs": [
    {
     "name": "stdout",
     "output_type": "stream",
     "text": [
      "Mean latency prob: 4411.626016260163\n",
      "Mean latency basic: 5519.69268292683\n"
     ]
    }
   ],
   "source": [
    "# Get the mean latency for successfull df\n",
    "mean_latency_prob = success_prob['Latency'].mean()\n",
    "mean_latency_basic = success_basic['Latency'].mean()\n",
    "print(f\"Mean latency prob: {mean_latency_prob}\")\n",
    "print(f\"Mean latency basic: {mean_latency_basic}\")"
   ],
   "metadata": {
    "collapsed": false,
    "pycharm": {
     "name": "#%%\n"
    }
   }
  },
  {
   "cell_type": "code",
   "execution_count": 115,
   "outputs": [
    {
     "data": {
      "text/plain": "<Figure size 432x288 with 1 Axes>",
      "image/png": "[encoded data removed]"
     },
     "metadata": {
      "needs_background": "light"
     },
     "output_type": "display_data"
    }
   ],
   "source": [
    "# Box plot for latency\n",
    "plt.boxplot([success_prob['Latency'], success_basic['Latency']])\n",
    "plt.xticks([1, 2], ['Probabilistic', 'Basic'])\n",
    "plt.ylabel('Latency (ms)')\n",
    "plt.show()"
   ],
   "metadata": {
    "collapsed": false,
    "pycharm": {
     "name": "#%%\n"
    }
   }
  },
  {
   "cell_type": "code",
   "execution_count": 116,
   "outputs": [],
   "source": [
    "filtered_prob_t1 = success_prob[success_prob['threadName'].str.contains(\"ThreadGroup1\", na=False)]\n",
    "filtered_prob_t2 = success_prob[success_prob['threadName'].str.contains('ThreadGroup2', na=False)]\n",
    "filtered_basic_t1 = success_basic[success_basic['threadName'].str.contains('ThreadGroup1', na=False)]\n",
    "filtered_basic_t2 = success_basic[success_basic['threadName'].str.contains('ThreadGroup2', na=False)]"
   ],
   "metadata": {
    "collapsed": false,
    "pycharm": {
     "name": "#%%\n"
    }
   }
  },
  {
   "cell_type": "code",
   "execution_count": 118,
   "outputs": [
    {
     "name": "stdout",
     "output_type": "stream",
     "text": [
      "Function 1: fib\n"
     ]
    }
   ],
   "source": [
    "#Get only Url\n",
    "url_1 = filtered_prob_t1['URL'].iloc[0]\n",
    "fun_name_1 = url_1.split('/')[4]\n",
    "print(f\"Function 1: {fun_name_1}\")\n",
    "if filtered_basic_t2.size > 0:\n",
    "    url_2 = filtered_basic_t2['URL'].iloc[0]\n",
    "    fun_name_2 = url_2.split('/')[4]\n",
    "    print(f\"Function 2: {fun_name_2}\")"
   ],
   "metadata": {
    "collapsed": false,
    "pycharm": {
     "name": "#%%\n"
    }
   }
  },
  {
   "cell_type": "code",
   "execution_count": 119,
   "outputs": [
    {
     "data": {
      "text/plain": "<Figure size 432x288 with 1 Axes>",
      "image/png": "[encoded data removed]"
     },
     "metadata": {
      "needs_background": "light"
     },
     "output_type": "display_data"
    }
   ],
   "source": [
    "plt.show()\n",
    "fig, ax = plt.subplots()\n",
    "ax.boxplot([filtered_prob_t1['elapsed'], filtered_basic_t1['elapsed']])\n",
    "ax.set_xticklabels(['Probabilistic', 'Basic'])\n",
    "ax.set_ylabel('Response time (ms)')\n",
    "ax.set_title(f'Response time {fun_name_1}')\n",
    "plt.show()"
   ],
   "metadata": {
    "collapsed": false,
    "pycharm": {
     "name": "#%%\n"
    }
   }
  },
  {
   "cell_type": "code",
   "execution_count": 127,
   "outputs": [
    {
     "data": {
      "text/plain": "<Figure size 432x288 with 1 Axes>",
      "image/png": "[encoded data removed]"
     },
     "metadata": {
      "needs_background": "light"
     },
     "output_type": "display_data"
    }
   ],
   "source": [
    "limit = 5000\n",
    "fig, ax = plt.subplots()\n",
    "ax.boxplot([filtered_prob_t1['elapsed'][filtered_prob_t1['elapsed'] < limit],\n",
    "            filtered_basic_t1['elapsed'][filtered_basic_t1['elapsed'] < limit]])\n",
    "ax.set_xticklabels(['Probabilistic', 'Basic'])\n",
    "ax.set_ylabel('Response time (ms)')\n",
    "ax.set_title(f'Response time {fun_name_1}')\n",
    "plt.show()"
   ],
   "metadata": {
    "collapsed": false,
    "pycharm": {
     "name": "#%%\n"
    }
   }
  },
  {
   "cell_type": "code",
   "execution_count": 121,
   "outputs": [
    {
     "data": {
      "text/plain": "<Figure size 432x288 with 1 Axes>",
      "image/png": "[encoded data removed]"
     },
     "metadata": {
      "needs_background": "light"
     },
     "output_type": "display_data"
    }
   ],
   "source": [
    "plt.show()\n",
    "fig, ax = plt.subplots()\n",
    "ax.boxplot([filtered_prob_t2['elapsed'], filtered_basic_t2['elapsed']])\n",
    "ax.set_xticklabels(['Probabilistic', 'Basic'])\n",
    "ax.set_ylabel('Response time (ms)')\n",
    "ax.set_title(f'Response time {fun_name_2}')\n",
    "plt.show()"
   ],
   "metadata": {
    "collapsed": false,
    "pycharm": {
     "name": "#%%\n"
    }
   }
  },
  {
   "cell_type": "code",
   "execution_count": 122,
   "outputs": [
    {
     "data": {
      "text/plain": "<Figure size 432x288 with 1 Axes>",
      "image/png": "[encoded data removed]"
     },
     "metadata": {
      "needs_background": "light"
     },
     "output_type": "display_data"
    }
   ],
   "source": [
    "limit = 1000\n",
    "fig, ax = plt.subplots()\n",
    "ax.boxplot([filtered_prob_t2['elapsed'][filtered_prob_t2['elapsed'] < limit],\n",
    "            filtered_basic_t2['elapsed'][filtered_basic_t2['elapsed'] < limit]])\n",
    "ax.set_xticklabels(['Probabilistic', 'Basic'])\n",
    "ax.set_ylabel('Response time (ms)')\n",
    "ax.set_title(f'Response time {fun_name_2}')\n",
    "plt.show()"
   ],
   "metadata": {
    "collapsed": false,
    "pycharm": {
     "name": "#%%\n"
    }
   }
  }
 ],
 "metadata": {
  "kernelspec": {
   "display_name": "Python 3",
   "language": "python",
   "name": "python3"
  },
  "language_info": {
   "codemirror_mode": {
    "name": "ipython",
    "version": 2
   },
   "file_extension": ".py",
   "mimetype": "text/x-python",
   "name": "python",
   "nbconvert_exporter": "python",
   "pygments_lexer": "ipython2",
   "version": "2.7.6"
  }
 },
 "nbformat": 4,
 "nbformat_minor": 0
}