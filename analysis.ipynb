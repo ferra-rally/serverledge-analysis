{
 "cells": [
  {
   "cell_type": "code",
   "execution_count": 109,
   "metadata": {
    "collapsed": true,
    "pycharm": {
     "name": "#%%\n"
    }
   },
   "outputs": [],
   "source": [
    "import pandas as pd\n",
    "import matplotlib.pyplot as plt"
   ]
  },
  {
   "cell_type": "code",
   "execution_count": 110,
   "outputs": [],
   "source": [
    "name = \"comb6\""
   ],
   "metadata": {
    "collapsed": false,
    "pycharm": {
     "name": "#%%\n"
    }
   }
  },
  {
   "cell_type": "code",
   "execution_count": 111,
   "outputs": [],
   "source": [
    "df_cloud = pd.read_csv(f'/Users/daniele/Tesi/Test/results-combined/{name}-cloud.log')\n",
    "df_edge = pd.read_csv(f'/Users/daniele/Tesi/Test/results-combined/{name}-edge.log')"
   ],
   "metadata": {
    "collapsed": false,
    "pycharm": {
     "name": "#%%\n"
    }
   }
  },
  {
   "cell_type": "code",
   "execution_count": 112,
   "outputs": [
    {
     "name": "stdout",
     "output_type": "stream",
     "text": [
      "Policy dataset size: 3075\n",
      "Edge only dataset size: 3075\n"
     ]
    }
   ],
   "source": [
    "#Print the size of the datasets\n",
    "print(f\"Policy dataset size: {len(df_cloud)}\")\n",
    "print(f\"Edge only dataset size: {len(df_edge)}\")"
   ],
   "metadata": {
    "collapsed": false,
    "pycharm": {
     "name": "#%%\n"
    }
   }
  },
  {
   "cell_type": "code",
   "execution_count": 113,
   "outputs": [
    {
     "data": {
      "text/plain": "       timeStamp  elapsed         label  responseCode        responseMessage  \\\n0  1674050226575     4984  HTTP Request           200                     OK   \n1  1674050231785      383  HTTP Request           200                     OK   \n2  1674050233604      218  HTTP Request           500  Internal Server Error   \n3  1674050234013      111  HTTP Request           500  Internal Server Error   \n4  1674050233375      873  HTTP Request           200                     OK   \n\n                    threadName dataType  success  failureMessage  bytes  \\\n0  Open Model Thread Group 2-1     text     True             NaN    349   \n1  Open Model Thread Group 2-4     text     True             NaN    331   \n2  Open Model Thread Group 2-7     text    False             NaN    135   \n3  Open Model Thread Group 2-8     text    False             NaN    135   \n4  Open Model Thread Group 2-6     text     True             NaN    333   \n\n   sentBytes  grpThreads  allThreads                               URL  \\\n0        273           3           3  http://10.10.1.2:1323/invoke/fib   \n1        273           3           3  http://10.10.1.2:1323/invoke/fib   \n2        273           5           5  http://10.10.1.2:1323/invoke/fib   \n3        273           5           5  http://10.10.1.2:1323/invoke/fib   \n4        273           6           6  http://10.10.1.2:1323/invoke/fib   \n\n   Latency  IdleTime  Connect  \n0     4973         0      109  \n1      383         0        2  \n2      218         0        3  \n3      111         0        5  \n4      873         0        4  ",
      "text/html": "<div>\n<style scoped>\n    .dataframe tbody tr th:only-of-type {\n        vertical-align: middle;\n    }\n\n    .dataframe tbody tr th {\n        vertical-align: top;\n    }\n\n    .dataframe thead th {\n        text-align: right;\n    }\n</style>\n<table border=\"1\" class=\"dataframe\">\n  <thead>\n    <tr style=\"text-align: right;\">\n      <th></th>\n      <th>timeStamp</th>\n      <th>elapsed</th>\n      <th>label</th>\n      <th>responseCode</th>\n      <th>responseMessage</th>\n      <th>threadName</th>\n      <th>dataType</th>\n      <th>success</th>\n      <th>failureMessage</th>\n      <th>bytes</th>\n      <th>sentBytes</th>\n      <th>grpThreads</th>\n      <th>allThreads</th>\n      <th>URL</th>\n      <th>Latency</th>\n      <th>IdleTime</th>\n      <th>Connect</th>\n    </tr>\n  </thead>\n  <tbody>\n    <tr>\n      <th>0</th>\n      <td>1674050226575</td>\n      <td>4984</td>\n      <td>HTTP Request</td>\n      <td>200</td>\n      <td>OK</td>\n      <td>Open Model Thread Group 2-1</td>\n      <td>text</td>\n      <td>True</td>\n      <td>NaN</td>\n      <td>349</td>\n      <td>273</td>\n      <td>3</td>\n      <td>3</td>\n      <td>http://10.10.1.2:1323/invoke/fib</td>\n      <td>4973</td>\n      <td>0</td>\n      <td>109</td>\n    </tr>\n    <tr>\n      <th>1</th>\n      <td>1674050231785</td>\n      <td>383</td>\n      <td>HTTP Request</td>\n      <td>200</td>\n      <td>OK</td>\n      <td>Open Model Thread Group 2-4</td>\n      <td>text</td>\n      <td>True</td>\n      <td>NaN</td>\n      <td>331</td>\n      <td>273</td>\n      <td>3</td>\n      <td>3</td>\n      <td>http://10.10.1.2:1323/invoke/fib</td>\n      <td>383</td>\n      <td>0</td>\n      <td>2</td>\n    </tr>\n    <tr>\n      <th>2</th>\n      <td>1674050233604</td>\n      <td>218</td>\n      <td>HTTP Request</td>\n      <td>500</td>\n      <td>Internal Server Error</td>\n      <td>Open Model Thread Group 2-7</td>\n      <td>text</td>\n      <td>False</td>\n      <td>NaN</td>\n      <td>135</td>\n      <td>273</td>\n      <td>5</td>\n      <td>5</td>\n      <td>http://10.10.1.2:1323/invoke/fib</td>\n      <td>218</td>\n      <td>0</td>\n      <td>3</td>\n    </tr>\n    <tr>\n      <th>3</th>\n      <td>1674050234013</td>\n      <td>111</td>\n      <td>HTTP Request</td>\n      <td>500</td>\n      <td>Internal Server Error</td>\n      <td>Open Model Thread Group 2-8</td>\n      <td>text</td>\n      <td>False</td>\n      <td>NaN</td>\n      <td>135</td>\n      <td>273</td>\n      <td>5</td>\n      <td>5</td>\n      <td>http://10.10.1.2:1323/invoke/fib</td>\n      <td>111</td>\n      <td>0</td>\n      <td>5</td>\n    </tr>\n    <tr>\n      <th>4</th>\n      <td>1674050233375</td>\n      <td>873</td>\n      <td>HTTP Request</td>\n      <td>200</td>\n      <td>OK</td>\n      <td>Open Model Thread Group 2-6</td>\n      <td>text</td>\n      <td>True</td>\n      <td>NaN</td>\n      <td>333</td>\n      <td>273</td>\n      <td>6</td>\n      <td>6</td>\n      <td>http://10.10.1.2:1323/invoke/fib</td>\n      <td>873</td>\n      <td>0</td>\n      <td>4</td>\n    </tr>\n  </tbody>\n</table>\n</div>"
     },
     "execution_count": 113,
     "metadata": {},
     "output_type": "execute_result"
    }
   ],
   "source": [
    "df_cloud.head()"
   ],
   "metadata": {
    "collapsed": false,
    "pycharm": {
     "name": "#%%\n"
    }
   }
  },
  {
   "cell_type": "code",
   "execution_count": 114,
   "outputs": [],
   "source": [
    "error_cloud = df_cloud[df_cloud['responseCode'] != 200]\n",
    "error_edge = df_edge[df_edge['responseCode'] != 200]"
   ],
   "metadata": {
    "collapsed": false,
    "pycharm": {
     "name": "#%%\n"
    }
   }
  },
  {
   "cell_type": "markdown",
   "source": [],
   "metadata": {
    "collapsed": false,
    "pycharm": {
     "name": "#%% md\n"
    }
   }
  },
  {
   "cell_type": "code",
   "execution_count": 115,
   "outputs": [
    {
     "data": {
      "text/plain": "489"
     },
     "execution_count": 115,
     "metadata": {},
     "output_type": "execute_result"
    }
   ],
   "source": [
    "len(error_cloud)"
   ],
   "metadata": {
    "collapsed": false,
    "pycharm": {
     "name": "#%%\n"
    }
   }
  },
  {
   "cell_type": "code",
   "execution_count": 116,
   "outputs": [
    {
     "data": {
      "text/plain": "627"
     },
     "execution_count": 116,
     "metadata": {},
     "output_type": "execute_result"
    }
   ],
   "source": [
    "len(error_edge)"
   ],
   "metadata": {
    "collapsed": false,
    "pycharm": {
     "name": "#%%\n"
    }
   }
  },
  {
   "cell_type": "code",
   "execution_count": 117,
   "outputs": [],
   "source": [
    "#filter dataframes by response code\n",
    "filtered_cloud = df_cloud[df_cloud['responseCode'] == 200]\n",
    "filtered_edge = df_edge[df_edge['responseCode'] == 200]"
   ],
   "metadata": {
    "collapsed": false,
    "pycharm": {
     "name": "#%%\n"
    }
   }
  },
  {
   "cell_type": "code",
   "execution_count": 118,
   "outputs": [
    {
     "name": "stdout",
     "output_type": "stream",
     "text": [
      "516.5116009280742 472.7438725490196\n"
     ]
    }
   ],
   "source": [
    "#mean response time\n",
    "mean_cloud = filtered_cloud['elapsed'].mean()\n",
    "mean_edge = filtered_edge['elapsed'].mean()\n",
    "print(mean_cloud, mean_edge)"
   ],
   "metadata": {
    "collapsed": false,
    "pycharm": {
     "name": "#%%\n"
    }
   }
  },
  {
   "cell_type": "code",
   "execution_count": 118,
   "outputs": [],
   "source": [],
   "metadata": {
    "collapsed": false,
    "pycharm": {
     "name": "#%%\n"
    }
   }
  },
  {
   "cell_type": "code",
   "execution_count": 119,
   "outputs": [
    {
     "data": {
      "text/plain": "<Figure size 432x288 with 1 Axes>",
      "image/png": "[encoded data removed]"
     },
     "metadata": {
      "needs_background": "light"
     },
     "output_type": "display_data"
    }
   ],
   "source": [
    "#Box and wiskers plot of response time of cloud and edge with matplotlib\n",
    "fig, ax = plt.subplots()\n",
    "ax.boxplot([filtered_cloud['elapsed'], filtered_edge['elapsed']])\n",
    "ax.set_xticklabels(['Edge-Cloud', 'Edge Only'])\n",
    "ax.set_ylabel('Response time (ms)')\n",
    "ax.set_title('Response time')\n",
    "plt.show()"
   ],
   "metadata": {
    "collapsed": false,
    "pycharm": {
     "name": "#%%\n"
    }
   }
  },
  {
   "cell_type": "code",
   "execution_count": 120,
   "outputs": [],
   "source": [
    "#Remove outliers\n",
    "filtered_cloud_o = filtered_cloud[filtered_cloud['elapsed'] < 2000]\n",
    "filtered_edge_o = filtered_edge[filtered_edge['elapsed'] < 2000]"
   ],
   "metadata": {
    "collapsed": false,
    "pycharm": {
     "name": "#%%\n"
    }
   }
  },
  {
   "cell_type": "code",
   "execution_count": 121,
   "outputs": [
    {
     "data": {
      "text/plain": "<Figure size 432x288 with 1 Axes>",
      "image/png": "[encoded data removed]"
     },
     "metadata": {
      "needs_background": "light"
     },
     "output_type": "display_data"
    }
   ],
   "source": [
    "#Box and wiskers plot of response time of cloud and edge with matplotlib\n",
    "fig, ax = plt.subplots()\n",
    "ax.boxplot([filtered_cloud_o['elapsed'], filtered_edge_o['elapsed']])\n",
    "ax.set_xticklabels(['Edge-Cloud', 'Edge Only'])\n",
    "ax.set_ylabel('Response time (ms)')\n",
    "ax.set_title('Response time')\n",
    "plt.show()"
   ],
   "metadata": {
    "collapsed": false,
    "pycharm": {
     "name": "#%%#Box and wiskers plot of response time of cloud and edge with matplotlib\n"
    }
   }
  },
  {
   "cell_type": "code",
   "execution_count": 122,
   "outputs": [
    {
     "name": "stdout",
     "output_type": "stream",
     "text": [
      "0.15902439024390244 0.20390243902439023\n"
     ]
    },
    {
     "data": {
      "text/plain": "<Figure size 432x288 with 1 Axes>",
      "image/png": "[encoded data removed]"
     },
     "metadata": {
      "needs_background": "light"
     },
     "output_type": "display_data"
    }
   ],
   "source": [
    "#Error rate of cloud and edge\n",
    "error_rate_cloud = len(error_cloud) / len(df_cloud)\n",
    "error_rate_edge = len(error_edge) / len(df_edge)\n",
    "print(error_rate_cloud, error_rate_edge)\n",
    "# Bar graph of error rate\n",
    "fig, ax = plt.subplots()\n",
    "ax.bar(['Edge-Cloud', 'Edge Only'], [error_rate_cloud, error_rate_edge])\n",
    "ax.set_ylabel('Error rate')\n",
    "ax.set_title('Error rate')\n",
    "plt.show()"
   ],
   "metadata": {
    "collapsed": false,
    "pycharm": {
     "name": "#%%\n"
    }
   }
  },
  {
   "cell_type": "code",
   "execution_count": 125,
   "outputs": [],
   "source": [
    "#List of threadName values\n",
    "threadName_cloud = filtered_cloud['threadName'].unique()\n",
    "threadName_edge = filtered_edge['threadName'].unique()"
   ],
   "metadata": {
    "collapsed": false,
    "pycharm": {
     "name": "#%%\n"
    }
   }
  },
  {
   "cell_type": "code",
   "execution_count": 128,
   "outputs": [
    {
     "data": {
      "text/plain": "array(['Open Model Thread Group 2-1', 'Open Model Thread Group 2-4',\n       'Open Model Thread Group 2-6', ...,\n       'Open Model Thread Group 2-3071', 'Open Model Thread Group 2-3074',\n       'Open Model Thread Group 2-3075'], dtype=object)"
     },
     "execution_count": 128,
     "metadata": {},
     "output_type": "execute_result"
    }
   ],
   "source": [
    "threadName_cloud"
   ],
   "metadata": {
    "collapsed": false,
    "pycharm": {
     "name": "#%%print(threadName_cloud)\n"
    }
   }
  }
 ],
 "metadata": {
  "kernelspec": {
   "display_name": "Python 3",
   "language": "python",
   "name": "python3"
  },
  "language_info": {
   "codemirror_mode": {
    "name": "ipython",
    "version": 2
   },
   "file_extension": ".py",
   "mimetype": "text/x-python",
   "name": "python",
   "nbconvert_exporter": "python",
   "pygments_lexer": "ipython2",
   "version": "2.7.6"
  }
 },
 "nbformat": 4,
 "nbformat_minor": 0
}